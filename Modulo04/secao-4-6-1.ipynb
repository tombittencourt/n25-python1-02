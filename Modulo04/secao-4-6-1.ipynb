{
 "cells": [
  {
   "cell_type": "markdown",
   "metadata": {},
   "source": [
    "# 4.6.1 - Tuplas e dicionários\n",
    "### Tuplas"
   ]
  },
  {
   "cell_type": "code",
   "execution_count": null,
   "metadata": {},
   "outputs": [
    {
     "name": "stdout",
     "output_type": "stream",
     "text": [
      "() (1, 2) (1, 2)\n",
      "(1,)\n"
     ]
    }
   ],
   "source": [
    "# Definindo uma tupla vazia\n",
    "tupla = ()\n",
    "#definindo uma tupla com 2 elementos\n",
    "tupla_v1 = (1, 2)\n",
    "tupla_v2 = 1, 2\n",
    "print(tupla, tupla_v1, tupla_v2)\n",
    "#definindo tupla com 1 elemento\n",
    "tupla_v3 = (1,) #coloca a vírgula para indicar que é um elemento\n",
    "print(tupla_v3) ##### Tuplas são imutáveis"
   ]
  },
  {
   "cell_type": "code",
   "execution_count": null,
   "metadata": {},
   "outputs": [
    {
     "name": "stdout",
     "output_type": "stream",
     "text": [
      "(1, 2, 3, 4, 5, 6, 7, 8)\n",
      "(2, 3, 4, 5, 6, 7)\n",
      "True\n",
      "False\n"
     ]
    }
   ],
   "source": [
    "# Operações com tuplas\n",
    "tupla = (1,2,3,4,5)\n",
    "#tupla.append(6) ## isso não pode\n",
    "#tupla.insert(1,6) ## isso não pode\n",
    "#del tupla[2] ##isso também não pode\n",
    "#tupla [4] = 10 ## não pode\n",
    "tupla = tupla + (6,7,8) #isso é possivel, mas somente adição\n",
    "print(tupla)\n",
    "print(tupla[1:-1]) # Fatiamento tambem é possivel\n",
    "print(6 in tupla) # funciona\n",
    "print(5 not in tupla) # funciona"
   ]
  },
  {
   "cell_type": "markdown",
   "metadata": {},
   "source": [
    "### Dicionário"
   ]
  },
  {
   "cell_type": "code",
   "execution_count": 19,
   "metadata": {},
   "outputs": [
    {
     "name": "stdout",
     "output_type": "stream",
     "text": [
      "Tom Bittencourt\n",
      "{'nome': 'Tom Bittencourt', 'endereço': 'Rua bem ruada, 10', 'telefone': '12345678900'}\n",
      "3\n",
      "True\n",
      "False\n",
      "dict_keys(['nome', 'endereço', 'telefone'])\n",
      "dict_values(['Tom Bittencourt', 'Rua bem ruada, 10', '12345678900'])\n",
      "dict_items([('nome', 'Tom Bittencourt'), ('endereço', 'Rua bem ruada, 10'), ('telefone', '12345678900')])\n",
      "nome, endereço, telefone, \n",
      "Tom Bittencourt, Rua bem ruada, 10, 12345678900, \n",
      "nome = Tom Bittencourt, endereço = Rua bem ruada, 10, telefone = 12345678900, "
     ]
    }
   ],
   "source": [
    "dic = {\"nome\": \"Tom Bittencourt\", \"endereço\": \"Rua bem ruada, 10\"}\n",
    "print(dic[\"nome\"])\n",
    "dic[\"telefone\"] = \"12345678900\"\n",
    "print(dic)\n",
    "print(len(dic))\n",
    "print(\"nome\" in dic)\n",
    "print(\"celular\" in dic)\n",
    "print(dic.keys())\n",
    "print(dic.values())\n",
    "print(dic.items())\n",
    "for el in dic.keys(): print(el, end=\", \")\n",
    "print()\n",
    "for el in dic.values(): print(el, end=\", \")\n",
    "print()\n",
    "for ch,vl in dic.items(): print(ch,\"=\", vl, end=\", \")"
   ]
  },
  {
   "cell_type": "code",
   "execution_count": 17,
   "metadata": {},
   "outputs": [
    {
     "name": "stdout",
     "output_type": "stream",
     "text": [
      "{'nome': 'Tom Bittencourt', 'endereço': 'Rua bem ruada, 10'}\n"
     ]
    }
   ],
   "source": [
    "del dic [\"telefone\"]\n",
    "print (dic)"
   ]
  }
 ],
 "metadata": {
  "kernelspec": {
   "display_name": ".venv",
   "language": "python",
   "name": "python3"
  },
  "language_info": {
   "codemirror_mode": {
    "name": "ipython",
    "version": 3
   },
   "file_extension": ".py",
   "mimetype": "text/x-python",
   "name": "python",
   "nbconvert_exporter": "python",
   "pygments_lexer": "ipython3",
   "version": "3.13.2"
  }
 },
 "nbformat": 4,
 "nbformat_minor": 2
}
