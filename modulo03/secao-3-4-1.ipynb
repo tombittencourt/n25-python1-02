{
 "cells": [
  {
   "cell_type": "markdown",
   "metadata": {},
   "source": [
    "# 3.4.1 Listas"
   ]
  },
  {
   "cell_type": "code",
   "execution_count": null,
   "metadata": {},
   "outputs": [
    {
     "name": "stdout",
     "output_type": "stream",
     "text": [
      "[1, 2, 3, 4, 5, 6]\n",
      "3\n",
      "[1, 2, 9, 4, 5, 6]\n",
      "6\n"
     ]
    }
   ],
   "source": [
    "# Representando uma lista\n",
    "lista = [1, 2, 3 , 4, 5, 6]\n",
    "print (lista)\n",
    "print(lista[2]) #começa a contar do 0\n",
    "lista[2] = 9 #altera o item da posição [2]\n",
    "print (lista)\n",
    "print(len(lista)) #diz o tamanho da lista"
   ]
  },
  {
   "cell_type": "markdown",
   "metadata": {},
   "source": [
    "## Remover elementos de uma lista"
   ]
  },
  {
   "cell_type": "code",
   "execution_count": 2,
   "metadata": {},
   "outputs": [
    {
     "name": "stdout",
     "output_type": "stream",
     "text": [
      "[1, 2, 3, 4, 5, 6]\n",
      "3\n",
      "[1, 2, 9, 4, 5, 6]\n",
      "6\n",
      "[1, 2, 9, 4, 6]\n"
     ]
    }
   ],
   "source": [
    "lista = [1, 2, 3 , 4, 5, 6]\n",
    "print (lista)\n",
    "print(lista[2]) \n",
    "lista[2] = 9 \n",
    "print (lista)\n",
    "print(len(lista)) \n",
    "del lista[4]\n",
    "print(lista)"
   ]
  },
  {
   "cell_type": "code",
   "execution_count": 7,
   "metadata": {},
   "outputs": [
    {
     "name": "stdout",
     "output_type": "stream",
     "text": [
      "5\n",
      "4\n",
      "1\n",
      "5\n"
     ]
    }
   ],
   "source": [
    "# Acessando elementos com indice negativo\n",
    "lista = [1,2,3,4,5]\n",
    "print (lista[-1]) #número negativo não começa a contar do 0\n",
    "print (lista[-2])\n",
    "print (lista[~(len(lista)-1)])\n",
    "print (lista[len(lista)-1])"
   ]
  },
  {
   "cell_type": "markdown",
   "metadata": {},
   "source": [
    "#### Funções x Métodos\n",
    "Exemplos de função: len(), min() , max(), print()\n",
    "Métodos são diferentes\n",
    "objeto.metodo()\n",
    "Exemplos de métodos:\n",
    "lista = [1,2,3,4,5]\n",
    "lista.append(6) <- isso adiciona o número 6 para a lista no final"
   ]
  },
  {
   "cell_type": "code",
   "execution_count": 14,
   "metadata": {},
   "outputs": [
    {
     "name": "stdout",
     "output_type": "stream",
     "text": [
      "[1, 2, 3, 4, 5, 6]\n",
      "['__add__', '__class__', '__class_getitem__', '__contains__', '__delattr__', '__delitem__', '__dir__', '__doc__', '__eq__', '__format__', '__ge__', '__getattribute__', '__getitem__', '__getstate__', '__gt__', '__hash__', '__iadd__', '__imul__', '__init__', '__init_subclass__', '__iter__', '__le__', '__len__', '__lt__', '__mul__', '__ne__', '__new__', '__reduce__', '__reduce_ex__', '__repr__', '__reversed__', '__rmul__', '__setattr__', '__setitem__', '__sizeof__', '__str__', '__subclasshook__', 'append', 'clear', 'copy', 'count', 'extend', 'index', 'insert', 'pop', 'remove', 'reverse', 'sort']\n",
      "[1, 2, 3, 9, 4, 5, 6]\n"
     ]
    }
   ],
   "source": [
    "lista = [1,2,3,4,5]\n",
    "lista.append(6)\n",
    "print(lista)\n",
    "print(dir(lista))#mostra todas as propriedades da lista\n",
    "lista.insert(3,9) # colocando o valor 9 no indice 3   \n",
    "print (lista)"
   ]
  },
  {
   "cell_type": "code",
   "execution_count": 17,
   "metadata": {},
   "outputs": [
    {
     "name": "stdout",
     "output_type": "stream",
     "text": [
      "indice: 0 valor: 1\n",
      "indice: 1 valor: 2\n",
      "indice: 2 valor: 3\n",
      "indice: 3 valor: 4\n",
      "indice: 4 valor: 5\n",
      "fim do programa\n"
     ]
    }
   ],
   "source": [
    "#usando for em listas\n",
    "lista = [1,2,3,4,5]\n",
    "for i in range(len(lista)):\n",
    "    print(\"indice:\", i,\"valor:\", lista[i])\n",
    "print (\"fim do programa\")"
   ]
  },
  {
   "cell_type": "code",
   "execution_count": null,
   "metadata": {},
   "outputs": [
    {
     "name": "stdout",
     "output_type": "stream",
     "text": [
      "Valor: 1\n",
      "Valor: 2\n",
      "Valor: 3\n",
      "Valor: 4\n",
      "Valor: 5\n",
      "Fim do programa\n"
     ]
    }
   ],
   "source": [
    "#usando for em listas pelo valor\n",
    "lista = [1,2,3,4,5]\n",
    "for el in lista:\n",
    "    print(\"Valor:\",el)\n",
    "print(\"Fim do programa\")"
   ]
  },
  {
   "cell_type": "code",
   "execution_count": null,
   "metadata": {},
   "outputs": [
    {
     "name": "stdout",
     "output_type": "stream",
     "text": [
      "[7, 6, 5, 4, 3, 2, 1]\n"
     ]
    }
   ],
   "source": [
    "# permuta de elementos (troca de valor de elementos)\n",
    "lista = [1,2,3,4,5,6,7]\n",
    "lista[0] , lista[-1] = lista[-1], lista[0] #troca o elemento 0 pelo -1 (1 e 7)\n",
    "lista[1], lista[-2] = lista [-2] , lista[1] #troca 2 por 6\n",
    "lista[2], lista[-3] = lista [-3] , lista[2] #troca 3 por 5\n",
    "\n",
    "print(lista)"
   ]
  },
  {
   "cell_type": "code",
   "execution_count": 4,
   "metadata": {},
   "outputs": [
    {
     "name": "stdout",
     "output_type": "stream",
     "text": [
      "[20, 19, 18, 17, 16, 15, 14, 13, 12, 11, 10, 9, 8, 7, 6, 5, 4, 3, 2, 1]\n"
     ]
    }
   ],
   "source": [
    "#jeito mais prático de trocar os elementos\n",
    "lista = [1,2,3,4,5,6,7,8,9,10,11,12,13,14,15,16,17,18,19,20]\n",
    "for i in range(len(lista)//2): #reverse da lista\n",
    "    lista[i], lista[~i] = lista[~i], lista[i]\n",
    "print(lista)"
   ]
  },
  {
   "cell_type": "code",
   "execution_count": null,
   "metadata": {},
   "outputs": [
    {
     "name": "stdout",
     "output_type": "stream",
     "text": [
      "3\n",
      "3\n"
     ]
    }
   ],
   "source": [
    "lista = [1,2.5,\"olá\", [1,2,3], [1,[2,3]], True]\n",
    "print (lista[3][2]) #o elemento 3 da lista é uma lista também, portanto ao colocar [2] estou pegando o elemento de dentro da lista02\n",
    "print (lista[4][1][1]) #elemento 4 da lista é uma lista02 que tem uma lista03 dentro"
   ]
  }
 ],
 "metadata": {
  "kernelspec": {
   "display_name": ".venv",
   "language": "python",
   "name": "python3"
  },
  "language_info": {
   "codemirror_mode": {
    "name": "ipython",
    "version": 3
   },
   "file_extension": ".py",
   "mimetype": "text/x-python",
   "name": "python",
   "nbconvert_exporter": "python",
   "pygments_lexer": "ipython3",
   "version": "3.13.2"
  }
 },
 "nbformat": 4,
 "nbformat_minor": 2
}
