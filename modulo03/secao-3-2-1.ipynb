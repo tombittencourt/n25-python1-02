{
 "cells": [
  {
   "cell_type": "markdown",
   "metadata": {},
   "source": [
    "# Loops\n",
    "### Laço while"
   ]
  },
  {
   "cell_type": "code",
   "execution_count": null,
   "metadata": {},
   "outputs": [
    {
     "name": "stdout",
     "output_type": "stream",
     "text": [
      "Laço infinito\n",
      "Laço encerrado\n"
     ]
    }
   ],
   "source": [
    "# Exemplo de laço infinito\n",
    "while True: #condição se verdade permanece laço\n",
    "    print(\"Laço infinito\")\n",
    "    break  # Para sair do laço\n",
    "\n",
    "print(\"Laço encerrado\")\n"
   ]
  },
  {
   "cell_type": "code",
   "execution_count": 7,
   "metadata": {},
   "outputs": [
    {
     "name": "stdout",
     "output_type": "stream",
     "text": [
      "Maior valor digitado foi 61343435135\n"
     ]
    }
   ],
   "source": [
    "#exemplo para testar maior valor\n",
    "# Usuário digita 2 valores até o valor ser -1\n",
    "maior = -999_999_999_999\n",
    "valor= int(input(\"Digite um valor (-1 = fim): \"))\n",
    "while valor != -1:\n",
    "    if valor > maior:\n",
    "        maior = valor\n",
    "    valor = int(input(\"Digite um valor (-1 = fim): \"))\n",
    "if maior > -999_999_999_999:\n",
    "    print(f\"Maior valor digitado foi\", maior)\n",
    "else:\n",
    "    print(\"Nenhum valor foi digitado.\")"
   ]
  },
  {
   "cell_type": "code",
   "execution_count": 11,
   "metadata": {},
   "outputs": [
    {
     "name": "stdout",
     "output_type": "stream",
     "text": [
      "Pares: 4 impares 5\n"
     ]
    }
   ],
   "source": [
    "#solicitar ao usuário a digitação de valor, se -1 encerrar\n",
    "# contar quantos pares e quantos impares foram digitados\n",
    "par, impar = 0, 0 #multipla atribuição\n",
    "num = int(input(\"Digite um número (-1 = fim): \"))\n",
    "while num != -1:\n",
    "    if num % 2 == 0:\n",
    "        par+= 1\n",
    "    else:\n",
    "        impar+= 1\n",
    "    num = int(input(\"Digite um número (-1 = fim): \"))\n",
    "print (\"Pares:\", par , \"impares\", impar) #tire o espaçamento do print para evitar erro de sintaxe"
   ]
  },
  {
   "cell_type": "code",
   "execution_count": 12,
   "metadata": {},
   "outputs": [
    {
     "name": "stdout",
     "output_type": "stream",
     "text": [
      "0\n",
      "1\n",
      "2\n",
      "3\n",
      "4\n",
      "5\n",
      "6\n",
      "7\n",
      "8\n",
      "9\n",
      "fim do programa\n"
     ]
    }
   ],
   "source": [
    "contador = 0\n",
    "while contador < 10:\n",
    "    print(contador)\n",
    "    contador += 1\n",
    "print(\"fim do programa\")"
   ]
  },
  {
   "cell_type": "markdown",
   "metadata": {},
   "source": [
    "### laço for"
   ]
  },
  {
   "cell_type": "code",
   "execution_count": 13,
   "metadata": {},
   "outputs": [
    {
     "name": "stdout",
     "output_type": "stream",
     "text": [
      "0\n",
      "1\n",
      "2\n",
      "3\n",
      "4\n",
      "5\n",
      "6\n",
      "7\n",
      "8\n",
      "9\n",
      "fim do programa\n"
     ]
    }
   ],
   "source": [
    "for contador in range(10): #range(10) gera 0 a 9\n",
    "    print(contador)\n",
    "print(\"fim do programa\")"
   ]
  },
  {
   "cell_type": "markdown",
   "metadata": {},
   "source": [
    "### Range com dois parâmetros (inicio , fim)"
   ]
  },
  {
   "cell_type": "code",
   "execution_count": 20,
   "metadata": {},
   "outputs": [
    {
     "name": "stdout",
     "output_type": "stream",
     "text": [
      "1\n",
      "2\n",
      "3\n",
      "4\n",
      "fim do programa\n"
     ]
    }
   ],
   "source": [
    "for contador in range(1, 5): #range(1,5) gera 1 a 4\n",
    "    print(contador)\n",
    "print(\"fim do programa\")"
   ]
  },
  {
   "cell_type": "markdown",
   "metadata": {},
   "source": [
    "### range com 3 parâmetros (incio, fim, passo)"
   ]
  },
  {
   "cell_type": "code",
   "execution_count": 25,
   "metadata": {},
   "outputs": [
    {
     "name": "stdout",
     "output_type": "stream",
     "text": [
      "1\n",
      "4\n",
      "7\n",
      "fim do programa\n"
     ]
    }
   ],
   "source": [
    "for contador in range(1, 10, 3): #range(1,10,1) gera 1 a 9 de 3 em 3\n",
    "    print(contador)\n",
    "print(\"fim do programa\")"
   ]
  },
  {
   "cell_type": "code",
   "execution_count": 28,
   "metadata": {},
   "outputs": [
    {
     "name": "stdout",
     "output_type": "stream",
     "text": [
      "fim do programa 9\n"
     ]
    }
   ],
   "source": [
    "#for interessante\n",
    "contador = 9\n",
    "for contador in range(1,1):\n",
    "    print(contador)\n",
    "print(\"fim do programa\", contador)"
   ]
  },
  {
   "cell_type": "code",
   "execution_count": 30,
   "metadata": {},
   "outputs": [
    {
     "name": "stdout",
     "output_type": "stream",
     "text": [
      "10\n",
      "9\n",
      "8\n",
      "7\n",
      "6\n",
      "5\n",
      "4\n",
      "3\n",
      "2\n",
      "1\n",
      "fim do programa\n"
     ]
    }
   ],
   "source": [
    "#desafio\n",
    "for contador in range(10, 0 ,-1):  #imprimir do 10 ao 1\n",
    "    print(contador)\n",
    "print(\"fim do programa\")"
   ]
  },
  {
   "cell_type": "code",
   "execution_count": 31,
   "metadata": {},
   "outputs": [
    {
     "name": "stdout",
     "output_type": "stream",
     "text": [
      "1 Mississippi\n",
      "2 Mississippi\n",
      "3 Mississippi\n",
      "4 Mississippi\n",
      "5 Mississippi\n",
      "Prontos ou não aqui vou eu!\n"
     ]
    }
   ],
   "source": [
    "#Lab 3.2.7\n",
    "import time #biblioteca para usar o time.sleep(1)\n",
    "# Escreva um loop for que conte até cinco\n",
    "   # Corpo do loop - exiba o número de iteração do loop e a palavra \"Mississippi\".\n",
    "   # Corpo do loop - use: time.sleep(1)\n",
    "\n",
    "# Escreva uma função print com a mensagem final.\n",
    "\n",
    "for i in range(1, 6):\n",
    "    print(i, \"Mississippi\")\n",
    "    time.sleep(1)\n",
    "print(\"Prontos ou não aqui vou eu!\")"
   ]
  },
  {
   "cell_type": "markdown",
   "metadata": {},
   "source": [
    "### Instrução break e continue"
   ]
  },
  {
   "cell_type": "code",
   "execution_count": 32,
   "metadata": {},
   "outputs": [
    {
     "name": "stdout",
     "output_type": "stream",
     "text": [
      "0\n",
      "1\n",
      "2\n",
      "fim do programa\n"
     ]
    }
   ],
   "source": [
    "contador = 0\n",
    "while contador < 10:\n",
    "    print(contador)\n",
    "    contador += 1\n",
    "    if contador == 3:\n",
    "        break\n",
    "print(\"fim do programa\")"
   ]
  },
  {
   "cell_type": "code",
   "execution_count": 2,
   "metadata": {},
   "outputs": [
    {
     "name": "stdout",
     "output_type": "stream",
     "text": [
      "1\n",
      "2\n",
      "4\n",
      "5\n",
      "6\n",
      "7\n",
      "8\n",
      "9\n",
      "10\n",
      "fim do programa\n"
     ]
    }
   ],
   "source": [
    "contador = 0\n",
    "while contador < 10:\n",
    "    contador += 1\n",
    "    if contador == 3:\n",
    "        continue\n",
    "    print(contador)\n",
    "print(\"fim do programa\")"
   ]
  },
  {
   "cell_type": "code",
   "execution_count": 8,
   "metadata": {},
   "outputs": [
    {
     "name": "stdout",
     "output_type": "stream",
     "text": [
      "o-t-o-r-r-i-n-o-l-a-r-í-n-g-o-l-o-g-i-s-t-a-\n",
      "fim do programa\n",
      "atsigologníralonirroto\n"
     ]
    }
   ],
   "source": [
    "#exemplo interessante do for\n",
    "palavra = \"otorrinolaríngologista\"\n",
    "for letra in palavra:\n",
    "    print(letra, end=\"-\")\n",
    "print(\"\\nfim do programa\")\n",
    "#invertendo a palavra\n",
    "pal_inv= \"\"\n",
    "for letra in palavra:\n",
    "    pal_inv = letra + pal_inv\n",
    "print(pal_inv)"
   ]
  },
  {
   "cell_type": "markdown",
   "metadata": {},
   "source": [
    "### Ramo else para While - 3.2.12"
   ]
  },
  {
   "cell_type": "code",
   "execution_count": null,
   "metadata": {},
   "outputs": [
    {
     "name": "stdout",
     "output_type": "stream",
     "text": [
      "1\n",
      "2\n",
      "3\n",
      "4\n",
      "else: 5\n"
     ]
    }
   ],
   "source": [
    "i = 1\n",
    "while i < 5:\n",
    "    print(i)\n",
    "    i += 1\n",
    "else:\n",
    "    print(\"else:\", i)"
   ]
  },
  {
   "cell_type": "markdown",
   "metadata": {},
   "source": [
    "### Ramo else para For - 3.2.12"
   ]
  },
  {
   "cell_type": "code",
   "execution_count": 8,
   "metadata": {},
   "outputs": [
    {
     "name": "stdout",
     "output_type": "stream",
     "text": [
      "1\n",
      "2\n"
     ]
    }
   ],
   "source": [
    "i= 10\n",
    "for i in range(1,5):\n",
    "    if i ==3 : break #pode ser 1 linha de if, desde que seja 1 só instrução\n",
    "    print(i)\n",
    "else: \n",
    "    print(\"else:\", 1) #só nao ocorre se tiver break no laço"
   ]
  },
  {
   "attachments": {
    "image.png": {
     "image/png": "[encoded data removed]"
    }
   },
   "cell_type": "markdown",
   "metadata": {},
   "source": [
    "### Laboratório 3.2.14\n",
    "![image.png](attachment:image.png)"
   ]
  },
  {
   "cell_type": "code",
   "execution_count": 20,
   "metadata": {},
   "outputs": [
    {
     "name": "stdout",
     "output_type": "stream",
     "text": [
      "A altura da pirâmide é: 62\n"
     ]
    }
   ],
   "source": [
    "#Sua tarefa é escrever um programa que lê o número de blocos que os construtores têm e gera a altura da pirâmide que pode ser construída usando esses blocos.\n",
    "#Nota: a altura é medida pelo número de camadas totalmente concluídas; se os construtores não tiverem um número suficiente de blocos e não puderem concluir a\n",
    "# próxima camada, eles terminarão seu trabalho imediatamente.\n",
    "blocos = int(input(\"Insira o número de blocos: \"))  \n",
    " # Escreva seu código aqui.\n",
    "altura = 0\n",
    "total_blocos = 0\n",
    "while total_blocos + altura + 1 <= blocos: # altura + 1 prevê se o limite vai ser ultrapassado\n",
    "    altura += 1\n",
    "    total_blocos += altura\n",
    "\n",
    "\n",
    "\n",
    "#\n",
    "\n",
    "print(\"A altura da pirâmide é:\", altura)\n"
   ]
  },
  {
   "cell_type": "markdown",
   "metadata": {},
   "source": [
    "#### fazer um programa que socilite um número e retorne a raiz aproximada do número, você deve usar laço for, if e break"
   ]
  },
  {
   "cell_type": "code",
   "execution_count": null,
   "metadata": {},
   "outputs": [
    {
     "name": "stdout",
     "output_type": "stream",
     "text": [
      "raiz aproximada é:  8\n"
     ]
    }
   ],
   "source": [
    "num= int(input(\"Digite o valor: \"))\n",
    "raiz= 0\n",
    "for i in range(num):\n",
    "    #seu coódigo\n",
    "    raiz = i    \n",
    "    if (raiz+1) * (raiz+1) > num : # soma mais um para prever qual será o proximo\n",
    "        break\n",
    "\n",
    "\n",
    "print(\"raiz aproximada é: \", raiz)"
   ]
  },
  {
   "cell_type": "code",
   "execution_count": null,
   "metadata": {},
   "outputs": [
    {
     "name": "stdout",
     "output_type": "stream",
     "text": [
      "Cpf inválido! 57745347652 57745347663\n"
     ]
    }
   ],
   "source": [
    "# Teste CPF\n",
    "cpf = input(\"digite o cpf (somente número, 11 dígitos): \")\n",
    "cpf_sem_dg = \"\"\n",
    "soma = 0\n",
    "for i in range(9):\n",
    "    soma += int(cpf[i]) * (10 - i) #indíce i\n",
    "    cpf_sem_dg += cpf[i] \n",
    "#calculo 1° digito\n",
    "dg1 = soma * 10 % 11\n",
    "if dg1 > 9: dg1 =0\n",
    "soma = 0\n",
    "for i in range(10):\n",
    "    soma += int(cpf[i]) * (11 - i)\n",
    "#calculo 2° digito\n",
    "dg2 = soma * 10 % 11\n",
    "if dg2 > 9: dg2 = 0\n",
    "#montando cpf calculado\n",
    "cpf_sem_dg += str(dg1) + str(dg2)\n",
    "if cpf != cpf_sem_dg:\n",
    "    print(\"Cpf inválido!\", cpf, cpf_sem_dg)\n",
    "else:\n",
    "    print(\"CPF válido\", cpf, cpf_sem_dg)"
   ]
  }
 ],
 "metadata": {
  "kernelspec": {
   "display_name": ".venv",
   "language": "python",
   "name": "python3"
  },
  "language_info": {
   "codemirror_mode": {
    "name": "ipython",
    "version": 3
   },
   "file_extension": ".py",
   "mimetype": "text/x-python",
   "name": "python",
   "nbconvert_exporter": "python",
   "pygments_lexer": "ipython3",
   "version": "3.13.2"
  }
 },
 "nbformat": 4,
 "nbformat_minor": 2
}
