{
 "cells": [
  {
   "cell_type": "markdown",
   "metadata": {},
   "source": [
    "# Tomada de decisão\n",
    "## Operações relacionais\n",
    "### Operador de igualdade( == )"
   ]
  },
  {
   "cell_type": "code",
   "execution_count": null,
   "metadata": {},
   "outputs": [
    {
     "name": "stdout",
     "output_type": "stream",
     "text": [
      "False\n",
      "True\n",
      "True\n",
      "True\n"
     ]
    }
   ],
   "source": [
    "print ( 1==2 )\n",
    "print ( 1==1 )\n",
    "print ( 1==1.0 )\n"
   ]
  },
  {
   "cell_type": "markdown",
   "metadata": {},
   "source": [
    "### Operador de desigualdade (!=)"
   ]
  },
  {
   "cell_type": "code",
   "execution_count": null,
   "metadata": {},
   "outputs": [],
   "source": [
    "print (1 != 2)\n",
    "print (1 != 1)\n",
    "print (1 != 1.0)\n",
    "print (2 != 0b10) # 2 in binary is 0b10"
   ]
  },
  {
   "cell_type": "markdown",
   "metadata": {},
   "source": [
    "### Operador maior que ( > ) e maior igual a ( >= )"
   ]
  },
  {
   "cell_type": "code",
   "execution_count": null,
   "metadata": {},
   "outputs": [
    {
     "name": "stdout",
     "output_type": "stream",
     "text": [
      "False\n",
      "True\n",
      "True\n",
      "True\n"
     ]
    }
   ],
   "source": [
    "print (1 > 2)\n",
    "print (2 > 1)\n",
    "print (2 >= 1)\n",
    "print (2 >= 0b10) # 2 in binary is 0b10"
   ]
  },
  {
   "cell_type": "markdown",
   "metadata": {},
   "source": [
    "### Operador menor que ( < ) e menor igual a ( <= )"
   ]
  },
  {
   "cell_type": "code",
   "execution_count": 9,
   "metadata": {},
   "outputs": [
    {
     "name": "stdout",
     "output_type": "stream",
     "text": [
      "True\n",
      "False\n",
      "False\n",
      "True\n"
     ]
    }
   ],
   "source": [
    "print (1 < 2)\n",
    "print (2 < 1)\n",
    "print (2 <= 1)\n",
    "print (2 <= 0b10) # 2 in binary is 0b10"
   ]
  },
  {
   "cell_type": "markdown",
   "metadata": {},
   "source": [
    "#### Atualizando a lista de prioridades de operadores\n",
    "| seq | Operador | Descrição |\n",
    "| - | :-: | - |\n",
    "| 1 | ** | Exponenciação | \n",
    "| 2 | +,- | Unários sinal |\n",
    "| 3 | *,/,//,% | Multiplicação, divisão e resto |\n",
    "| 4 | +,- | Soma e subtração |\n",
    "| 5 | >, >=, <, <= | Maior , maior igual, menor , menor igual |\n",
    "| 6 | == , != | Igualdade e diferença |"
   ]
  },
  {
   "cell_type": "markdown",
   "metadata": {},
   "source": [
    "### Operador If (Se)\n",
    "sintaxe: # sempre precisa do espaço (apertar tab faz o espaçamento automatico)\n",
    "\n",
    "if condicao_verdade: \n",
    "    comando_a_ser_executado1() \n",
    "    comando_a_ser_executado2()"
   ]
  },
  {
   "cell_type": "code",
   "execution_count": 15,
   "metadata": {},
   "outputs": [
    {
     "name": "stdout",
     "output_type": "stream",
     "text": [
      "maior de idade\n",
      "você pode dirigir\n",
      "fim do programa\n"
     ]
    }
   ],
   "source": [
    "idade = (int(input(\"digite sua idade: \")))\n",
    "if idade >= 18: #tudo que estiver dentro do if deve ter a mesma identação\n",
    "    print(\"maior de idade\") \n",
    "    print(\"você pode dirigir\") \n",
    "print(\"fim do programa\") #aqui não faz parte do if, pois não tem a mesma identação"
   ]
  },
  {
   "cell_type": "markdown",
   "metadata": {},
   "source": [
    "### Instruçao else (Se não)"
   ]
  },
  {
   "cell_type": "code",
   "execution_count": 17,
   "metadata": {},
   "outputs": [
    {
     "name": "stdout",
     "output_type": "stream",
     "text": [
      "menor de idade\n",
      "você não pode dirigir!\n",
      "fim do programa\n"
     ]
    }
   ],
   "source": [
    "idade = (int(input(\"digite sua idade: \")))\n",
    "if idade >= 18:\n",
    "    print(\"maior de idade\") \n",
    "    print(\"você pode dirigir\")\n",
    "else: #precisa ter o mesmo espaço de identação do if\n",
    "    print(\"menor de idade\") \n",
    "    print(\"você não pode dirigir!\")\n",
    "print(\"fim do programa\") "
   ]
  },
  {
   "cell_type": "markdown",
   "metadata": {},
   "source": [
    "### If encadeado"
   ]
  },
  {
   "cell_type": "code",
   "execution_count": null,
   "metadata": {},
   "outputs": [
    {
     "name": "stdout",
     "output_type": "stream",
     "text": [
      "maior de idade\n",
      "você pode dirigir\n",
      "você é idoso\n",
      "você pode dirigir, mas deve fazer exames médicos anuais\n",
      "fim do programa\n"
     ]
    }
   ],
   "source": [
    "idade = (int(input(\"digite sua idade: \")))\n",
    "if idade >= 18:\n",
    "    print(\"maior de idade\") \n",
    "    print(\"você pode dirigir\")\n",
    "    if idade >= 70:\n",
    "        print(\"você é idoso\")\n",
    "        print(\"você pode dirigir, mas deve fazer exames médicos anuais\")\n",
    "    else:\n",
    "        if idade >= 65:\n",
    "            print(\"você é idoso\")\n",
    "            print(\"você pode dirigir, mas deve fazer exames médicos a cada dois anos\")\n",
    "else: \n",
    "    print(\"menor de idade\") \n",
    "    print(\"você não pode dirigir!\")\n",
    "print(\"fim do programa\") "
   ]
  },
  {
   "cell_type": "markdown",
   "metadata": {},
   "source": [
    "### Instrução elif"
   ]
  },
  {
   "cell_type": "code",
   "execution_count": 23,
   "metadata": {},
   "outputs": [
    {
     "name": "stdout",
     "output_type": "stream",
     "text": [
      "Você é menor de idade\n"
     ]
    }
   ],
   "source": [
    "idade = (int(input(\"digite sua idade: \"))) #não se pode colocar else antes de elif, pois o else só pode ser usado uma vez\n",
    "if idade >= 70:\n",
    "    print(\"você é maior de idade\")\n",
    "    print(\"você pode dirigir, se habilitado!\")\n",
    "    print(\"você deve fazer exames médiocos anuais\")\n",
    "elif idade >= 65:\n",
    "    print(\"você é maior de idade\")\n",
    "    print(\"você pode dirigir, se habilitado!\")\n",
    "    print(\"você deve fazer exames médicos a cada dois anos\")\n",
    "elif idade >= 18:\n",
    "    print(\"maior de idade\") \n",
    "    print(\"você pode dirigir, se habilitado!\")\n",
    "else:\n",
    "    print(\"Você é menor de idade\")"
   ]
  },
  {
   "cell_type": "code",
   "execution_count": 24,
   "metadata": {},
   "outputs": [
    {
     "name": "stdout",
     "output_type": "stream",
     "text": [
      "O maior número é: 2\n"
     ]
    }
   ],
   "source": [
    "# Obtendo o maior número entre dois números\n",
    "num1 = int(input(\"Digite o primeiro número: \"))\n",
    "num2 = int(input(\"Digite o segundo número: \"))\n",
    " \n",
    "# Escolha o número maior\n",
    "if num1 > num2:\n",
    "    num_maior = num1\n",
    "else:\n",
    "    num_maior = num2\n",
    " \n",
    "# Imprimir o resultado\n",
    "print(\"O maior número é:\", num_maior)"
   ]
  },
  {
   "cell_type": "code",
   "execution_count": 25,
   "metadata": {},
   "outputs": [
    {
     "name": "stdout",
     "output_type": "stream",
     "text": [
      "O maior número é: 3\n"
     ]
    }
   ],
   "source": [
    "num1 = int(input(\"Digite o primeiro número: \"))\n",
    "num2 = int(input(\"Digite o segundo número: \"))\n",
    "num3 = int(input(\"Digite o terceiro número: \"))\n",
    "maior = num1\n",
    "if num2 > maior:\n",
    "    maior = num2\n",
    "if num3 > maior:\n",
    "    maior = num3\n",
    "print(\"O maior número é:\", maior)"
   ]
  }
 ],
 "metadata": {
  "kernelspec": {
   "display_name": ".venv",
   "language": "python",
   "name": "python3"
  },
  "language_info": {
   "codemirror_mode": {
    "name": "ipython",
    "version": 3
   },
   "file_extension": ".py",
   "mimetype": "text/x-python",
   "name": "python",
   "nbconvert_exporter": "python",
   "pygments_lexer": "ipython3",
   "version": "3.13.2"
  }
 },
 "nbformat": 4,
 "nbformat_minor": 2
}
