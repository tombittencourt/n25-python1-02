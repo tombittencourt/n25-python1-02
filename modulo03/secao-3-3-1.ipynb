{
 "cells": [
  {
   "cell_type": "markdown",
   "metadata": {},
   "source": [
    "# 3.3 Lógica e Operadores bit-a-bit\n",
    "### Operadores lógicos and, or e not\n",
    "| A | B | A and B | A or B | Not A |\n",
    "| - | - | :-: | :-: |\n",
    "| True | True | True | True | False |\n",
    "| True | False | False | True | False |\n",
    "| False | True | False | True | True |\n",
    "| False | False | False | False | true |\n"
   ]
  },
  {
   "cell_type": "code",
   "execution_count": 6,
   "metadata": {},
   "outputs": [
    {
     "name": "stdout",
     "output_type": "stream",
     "text": [
      "pode dirigir sem restrições, desde que tenha habilitação.\n",
      "idade inválida!\n",
      "idade inválida!\n",
      "idade inválida!\n",
      "idade inválida!\n"
     ]
    }
   ],
   "source": [
    "idade = 19\n",
    "if idade >= 18 and idade <= 60:\n",
    "    print (\"pode dirigir sem restrições, desde que tenha habilitação.\")\n",
    "idade = 10 #coloca um número fora do laço para forçar o usuário para dentro do laço\n",
    "while idade <18 or idade >60:\n",
    "    idade = int(input(\"digite uma idade entre 18 e 60: \"))\n",
    "    if idade<18 or idade > 60: print(\"idade inválida!\")\n",
    "    if not (idade>= 18 or idade <= 60): print(\"idade inválida!\")\n",
    "#só vai sair do laço com uma idade entre 18 e 60"
   ]
  },
  {
   "cell_type": "code",
   "execution_count": null,
   "metadata": {},
   "outputs": [
    {
     "name": "stdout",
     "output_type": "stream",
     "text": [
      "Diferente de zero!\n"
     ]
    }
   ],
   "source": [
    "num= int(input(\"digite um número diferente de zero: \"))\n",
    "if not num:\n",
    "    print(\"Diferente de zero!\")"
   ]
  },
  {
   "cell_type": "markdown",
   "metadata": {},
   "source": [
    "### Operadores bit-a-bit\n",
    "#### Operador de conjunção (&) ou and bit-a-bit\n",
    "\n",
    "2 & 3 = 2\n",
    "2 10 &\n",
    "3 11\n",
    "----\n",
    "2 10"
   ]
  },
  {
   "cell_type": "code",
   "execution_count": 17,
   "metadata": {},
   "outputs": [
    {
     "name": "stdout",
     "output_type": "stream",
     "text": [
      "5 -0101\n",
      "7 -0111 &\n",
      "-------\n",
      "5 0101\n",
      "0b101\n"
     ]
    }
   ],
   "source": [
    "a = 5\n",
    "b = 7\n",
    "print(a,f\"-{a:04b}\") #formatando a saída com o f e o :04b (quatro dígitos binário)\n",
    "print(b,f\"-{b:04b}\", \"&\")\n",
    "print(\"-\"*7)\n",
    "print(a&b,f\"{(a&b):04b}\")\n",
    "print(bin(a)) #jeito de ver o número binário (da pra fazer o código desse jeito, porém fica com o b)"
   ]
  },
  {
   "cell_type": "code",
   "execution_count": null,
   "metadata": {},
   "outputs": [
    {
     "name": "stdout",
     "output_type": "stream",
     "text": [
      "5 0b101\n",
      "7 0b111\n",
      "-------\n",
      "0b101\n"
     ]
    }
   ],
   "source": [
    "a= 5\n",
    "b= 7\n",
    "print(a, bin(a))\n",
    "print(b, bin(b))\n",
    "print(\"-\"*7)\n",
    "print(bin (a&b))"
   ]
  },
  {
   "cell_type": "markdown",
   "metadata": {},
   "source": [
    "#### Operador de disjunção ( | ) ou or bit-a-bit\n",
    "5 0101\n",
    "7 0111\n",
    "------\n",
    "7 0111"
   ]
  },
  {
   "cell_type": "code",
   "execution_count": 20,
   "metadata": {},
   "outputs": [
    {
     "name": "stdout",
     "output_type": "stream",
     "text": [
      "5 0b101\n",
      "7 0b111\n",
      "-------\n",
      "0b111\n"
     ]
    }
   ],
   "source": [
    "a= 5\n",
    "b= 7\n",
    "print(a, bin(a))\n",
    "print(b, bin(b))\n",
    "print(\"-\"*7)\n",
    "print(bin (a|b))"
   ]
  },
  {
   "cell_type": "markdown",
   "metadata": {},
   "source": [
    "#### Operador xor ( ^ ) ou or exclusivo bit-a-bit (dois iguais viram zero, diferentes viram 1)\n",
    "5 0101\n",
    "7 0111\n",
    "------\n",
    "2 0010"
   ]
  },
  {
   "cell_type": "code",
   "execution_count": 25,
   "metadata": {},
   "outputs": [
    {
     "name": "stdout",
     "output_type": "stream",
     "text": [
      "5 -0101\n",
      "7 -0111\n",
      "-------\n",
      "2 0010\n"
     ]
    }
   ],
   "source": [
    "a = 5\n",
    "b = 7\n",
    "print(a,f\"-{a:04b}\") \n",
    "print(b,f\"-{b:04b}\")\n",
    "print(\"-\"*7)\n",
    "print(a^b,f\"{(a^b):04b}\")\n"
   ]
  },
  {
   "cell_type": "markdown",
   "metadata": {},
   "source": [
    "#### Complemento ( ~ ) \n",
    "~5 = -6"
   ]
  },
  {
   "cell_type": "code",
   "execution_count": 30,
   "metadata": {},
   "outputs": [
    {
     "name": "stdout",
     "output_type": "stream",
     "text": [
      "-6\n",
      "5\n",
      "-201\n"
     ]
    }
   ],
   "source": [
    "print(~5) #aumenta 1 numero e inverte o sinal\n",
    "print(~-6)\n",
    "print(~200)"
   ]
  },
  {
   "cell_type": "markdown",
   "metadata": {},
   "source": [
    "#### Deslocamento de bit para a esquerda (<<)\n",
    "1 << 2 resulta em 4 (100)"
   ]
  },
  {
   "cell_type": "code",
   "execution_count": 38,
   "metadata": {},
   "outputs": [
    {
     "name": "stdout",
     "output_type": "stream",
     "text": [
      "1 0001\n",
      "4 0100\n",
      "8 1000\n",
      "2 0010\n"
     ]
    }
   ],
   "source": [
    "print(1, f\"{(1):04b}\") #essa formatação mostra o número em binário sem bugs\n",
    "print (1 << 2, f\"{(1<<2):04b}\") #desloca o 1 em 2 casas\n",
    "print (1 << 3, f\"{(1<<3):04b}\")\n",
    "print (1 << 1, f\"{(1<<1):04b}\")\n",
    "#essa conta equivale a X * 2 elevado ao número de casas deslocadas (1 * 2^2 = 4)"
   ]
  },
  {
   "cell_type": "markdown",
   "metadata": {},
   "source": [
    "#### Deslocamento de bit para a direita (>>)\n",
    "5 >> 2 resulta em 1"
   ]
  },
  {
   "cell_type": "code",
   "execution_count": null,
   "metadata": {},
   "outputs": [
    {
     "name": "stdout",
     "output_type": "stream",
     "text": [
      "1 0001\n"
     ]
    }
   ],
   "source": [
    "print(5>>2, f\"{(5>>2):04b}\") #o deslocamento dispreza os bits"
   ]
  },
  {
   "cell_type": "markdown",
   "metadata": {},
   "source": [
    "### Atualizando a tabela de precedência de operadores\n",
    "| Seq | Operador | Descrição |\n",
    "|:-:|:-:| - |\n",
    "| 1 | ** | Exponenciação |\n",
    "| 2 | -,+,~ | Operadores unários e complemento |\n",
    "| 3 | *,/,//,% | Multiplicação, Divisões e Resto |\n",
    "| 4 | +,- | Soma e subtração |\n",
    "| 5 | <<, >> | Deslocamento de bits |\n",
    "| 6 | & | Conjunção |\n",
    "| 7 | \\| | Disjunção |\n",
    "| 8 | <,<=,>,>=,!=, == | Operadores relacionais | \n",
    "| 9 | not | Operador de negação |\n",
    "| 10 | and | Operador and |\n",
    "| 11 | or | Operador or |\n",
    "| 12 | +=, -=, *=, etc... | Operadores atalho |"
   ]
  }
 ],
 "metadata": {
  "kernelspec": {
   "display_name": ".venv",
   "language": "python",
   "name": "python3"
  },
  "language_info": {
   "codemirror_mode": {
    "name": "ipython",
    "version": 3
   },
   "file_extension": ".py",
   "mimetype": "text/x-python",
   "name": "python",
   "nbconvert_exporter": "python",
   "pygments_lexer": "ipython3",
   "version": "3.13.2"
  }
 },
 "nbformat": 4,
 "nbformat_minor": 2
}
