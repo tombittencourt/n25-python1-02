{
 "cells": [
  {
   "cell_type": "markdown",
   "metadata": {},
   "source": [
    "# 3.6.1 Operações com lista\n",
    "### Fatiamento"
   ]
  },
  {
   "cell_type": "code",
   "execution_count": 5,
   "metadata": {},
   "outputs": [
    {
     "name": "stdout",
     "output_type": "stream",
     "text": [
      "20 15\n",
      "140708094543368 140708094543208\n"
     ]
    }
   ],
   "source": [
    "# Operações com valores\n",
    "item1 = 10\n",
    "item2 = 20\n",
    "item1 = item2\n",
    "item2 = 15\n",
    "print(item1, item2)\n",
    "print(id(item1), id(item2))"
   ]
  },
  {
   "cell_type": "code",
   "execution_count": null,
   "metadata": {},
   "outputs": [
    {
     "name": "stdout",
     "output_type": "stream",
     "text": [
      "[1, 2, 3, 4]\n",
      "2325086670784 2325086670784\n"
     ]
    }
   ],
   "source": [
    "# Operação com lista\n",
    "# objetos quando modificados, são modificados no endereço da memória, então o append adiciona tanto na lista1 quanto na 2\n",
    "lista1 = [1,2,3]\n",
    "lista2 = lista1\n",
    "lista2.append(4)\n",
    "print (lista1)\n",
    "print(id(lista1), id(lista2))"
   ]
  },
  {
   "cell_type": "code",
   "execution_count": 18,
   "metadata": {},
   "outputs": [
    {
     "name": "stdout",
     "output_type": "stream",
     "text": [
      "[2, 3]\n",
      "[1, 2, 3]\n",
      "[2, 3, 4, 5]\n",
      "[2, 3]\n"
     ]
    }
   ],
   "source": [
    "# Fatiamento\n",
    "lista = [1,2,3,4,5]\n",
    "print(lista[1:3]) #o fatiamento funciona igual o range, o elemento 3 seria o número 4 (começa no zero), ele é cortado\n",
    "print(lista[:3])\n",
    "print(lista[1:])\n",
    "print(lista[1:-2]) \n"
   ]
  },
  {
   "cell_type": "code",
   "execution_count": 28,
   "metadata": {},
   "outputs": [
    {
     "name": "stdout",
     "output_type": "stream",
     "text": [
      "[1, 2, 3, 4] 2325087133248\n",
      "[1, 2, 3, 4, 5] 2325087139456\n",
      "[1, 4]\n",
      "[1, 2, 3, 4, 5]\n"
     ]
    }
   ],
   "source": [
    "lista1 = [1,2,3,4]\n",
    "lista2 = lista1[:] #quando o fatiamento é realizado, é criado uma shadowlist (cópia), então a lista2 foi vinculada a uma cópia da lista1\n",
    "lista2.append(5)\n",
    "print(lista1, id(lista1))\n",
    "print(lista2, id(lista2))\n",
    "del lista1[1:3]\n",
    "print(lista1)\n",
    "print(lista2)"
   ]
  },
  {
   "cell_type": "markdown",
   "metadata": {},
   "source": [
    "### Operadores In e not In"
   ]
  },
  {
   "cell_type": "code",
   "execution_count": 29,
   "metadata": {},
   "outputs": [
    {
     "name": "stdout",
     "output_type": "stream",
     "text": [
      "True\n",
      "False\n",
      "False\n"
     ]
    }
   ],
   "source": [
    "lista = [7,8,3,2,5]\n",
    "print(5 in lista)\n",
    "print(5 not in lista)\n",
    "print(9 in lista)"
   ]
  },
  {
   "cell_type": "code",
   "execution_count": 31,
   "metadata": {},
   "outputs": [
    {
     "name": "stdout",
     "output_type": "stream",
     "text": [
      "cdefghijklmnopqerstuvwx\n"
     ]
    }
   ],
   "source": [
    "# Fatiamento em string\n",
    "texto = \"abcdefghijklmnopqerstuvwxyz\"\n",
    "print(texto[2:-2])"
   ]
  },
  {
   "cell_type": "code",
   "execution_count": 33,
   "metadata": {},
   "outputs": [
    {
     "name": "stdout",
     "output_type": "stream",
     "text": [
      "você está na lista!\n"
     ]
    }
   ],
   "source": [
    "lista = [1,2,3,4,5,6,7]\n",
    "número = int(input(\"digite um número: \"))\n",
    "if número in lista:\n",
    "    print(\"você está na lista!\")\n",
    "else:\n",
    "    print(\"você não está na lista!\")\n"
   ]
  },
  {
   "cell_type": "markdown",
   "metadata": {},
   "source": [
    "###  Laboratório 3.6.6"
   ]
  },
  {
   "cell_type": "code",
   "execution_count": 40,
   "metadata": {},
   "outputs": [
    {
     "name": "stdout",
     "output_type": "stream",
     "text": [
      "A lista com os elementos exclusivos aqui\n",
      "[1, 2, 4, 6, 9]\n"
     ]
    }
   ],
   "source": [
    "#remover os números duplicados\n",
    "lista = [1, 2, 4, 4, 1, 4, 2, 6, 2, 9]\n",
    "#\n",
    "lista_ap = []\n",
    "\n",
    "\n",
    "for el in lista:\n",
    "    if el not in lista_ap:\n",
    "        lista_ap.append(el)\n",
    "lista = lista_ap\n",
    "\n",
    "#\n",
    "print(\"A lista com os elementos exclusivos aqui\")\n",
    "print(lista)\n",
    "\n"
   ]
  },
  {
   "cell_type": "code",
   "execution_count": null,
   "metadata": {},
   "outputs": [
    {
     "name": "stdout",
     "output_type": "stream",
     "text": [
      "A lista com os elementos exclusivos aqui\n",
      "[1, 2, 4, 6, 9]\n"
     ]
    }
   ],
   "source": [
    "#exemplo trapaça\n",
    "lista = [1, 2, 4, 4, 1, 4, 2, 6, 2, 9]\n",
    "lista = list(set(lista)) # set pega os elementos exclsivos \n",
    "print(\"A lista com os elementos exclusivos aqui\")\n",
    "print(lista)"
   ]
  }
 ],
 "metadata": {
  "kernelspec": {
   "display_name": ".venv",
   "language": "python",
   "name": "python3"
  },
  "language_info": {
   "codemirror_mode": {
    "name": "ipython",
    "version": 3
   },
   "file_extension": ".py",
   "mimetype": "text/x-python",
   "name": "python",
   "nbconvert_exporter": "python",
   "pygments_lexer": "ipython3",
   "version": "3.13.2"
  }
 },
 "nbformat": 4,
 "nbformat_minor": 2
}
