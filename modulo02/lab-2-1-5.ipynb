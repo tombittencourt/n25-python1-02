{
 "cells": [
  {
   "cell_type": "markdown",
   "metadata": {},
   "source": [
    "# Laboratório 2-1-5"
   ]
  },
  {
   "cell_type": "code",
   "execution_count": 27,
   "metadata": {},
   "outputs": [
    {
     "name": "stdout",
     "output_type": "stream",
     "text": [
      "Olá, Python!\n",
      "Tom\n"
     ]
    }
   ],
   "source": [
    "print (\"Olá, Python!\") \n",
    "print (\"Tom\")"
   ]
  },
  {
   "cell_type": "markdown",
   "metadata": {},
   "source": [
    "### Continuando sobre print"
   ]
  },
  {
   "cell_type": "code",
   "execution_count": 28,
   "metadata": {},
   "outputs": [
    {
     "name": "stdout",
     "output_type": "stream",
     "text": [
      "A pequenina aranha\n",
      " escalou a tromba d'água.\n",
      "\n",
      "Caiu a chuva\n",
      " e lavou a aranha.\n"
     ]
    }
   ],
   "source": [
    "print(\"A pequenina aranha\\n escalou a tromba d'água.\")\n",
    "print()\n",
    "print(\"Caiu a chuva\\n e lavou a aranha.\")\n"
   ]
  },
  {
   "cell_type": "code",
   "execution_count": 29,
   "metadata": {},
   "outputs": [
    {
     "name": "stdout",
     "output_type": "stream",
     "text": [
      "\"\n",
      "\\\n",
      "1234\t5678\t90\n"
     ]
    }
   ],
   "source": [
    "print(\"\\\"\")\n",
    "print(\"\\\\\")\n",
    "print(\"1234\\t5678\\t90\")"
   ]
  },
  {
   "cell_type": "markdown",
   "metadata": {},
   "source": [
    "### Print com vários argumentos"
   ]
  },
  {
   "cell_type": "code",
   "execution_count": 30,
   "metadata": {},
   "outputs": [
    {
     "name": "stdout",
     "output_type": "stream",
     "text": [
      "A aranha pequenininha subiu a tromba d'água.\n"
     ]
    }
   ],
   "source": [
    "print(\"A aranha pequenininha\" , \"subiu\" , \"a tromba d'água.\")"
   ]
  },
  {
   "cell_type": "markdown",
   "metadata": {},
   "source": [
    "### Argumento palavra-chave (nomeado)"
   ]
  },
  {
   "cell_type": "code",
   "execution_count": 31,
   "metadata": {},
   "outputs": [
    {
     "name": "stdout",
     "output_type": "stream",
     "text": [
      "Meu nome é Python. Monty Python.\n"
     ]
    }
   ],
   "source": [
    "print (\"Meu nome é\" , \"Python.\" , end=\" \")\n",
    "print (\"Monty Python.\")"
   ]
  },
  {
   "cell_type": "code",
   "execution_count": 41,
   "metadata": {},
   "outputs": [
    {
     "name": "stdout",
     "output_type": "stream",
     "text": [
      "    *        *        *        *    \n",
      "   * *      * *      * *      * *   \n",
      "  *   *    *   *    *   *    *   *  \n",
      " *     *  *     *  *     *  *     * \n",
      "***   ******   ******   ******   ***\n",
      "  *   *    *   *    *   *    *   *  \n",
      "  *   *    *   *    *   *    *   *  \n",
      "  *****    *****    *****    *****  \n"
     ]
    }
   ],
   "source": [
    "print(\"    *    \"*4)\n",
    "print(\"   * *   \"*4)\n",
    "print(\"  *   *  \"*4)\n",
    "print(\" *     * \"*4)\n",
    "print(\"***   ***\"*4)\n",
    "print(\"  *   *  \"*4)\n",
    "print(\"  *   *  \"*4)\n",
    "print(\"  *****  \"*4)"
   ]
  },
  {
   "cell_type": "code",
   "execution_count": null,
   "metadata": {},
   "outputs": [],
   "source": [
    "a\n"
   ]
  }
 ],
 "metadata": {
  "kernelspec": {
   "display_name": ".venv",
   "language": "python",
   "name": "python3"
  },
  "language_info": {
   "codemirror_mode": {
    "name": "ipython",
    "version": 3
   },
   "file_extension": ".py",
   "mimetype": "text/x-python",
   "name": "python",
   "nbconvert_exporter": "python",
   "pygments_lexer": "ipython3",
   "version": "3.13.2"
  }
 },
 "nbformat": 4,
 "nbformat_minor": 2
}
