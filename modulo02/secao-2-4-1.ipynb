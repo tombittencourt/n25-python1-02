{
 "cells": [
  {
   "cell_type": "markdown",
   "metadata": {},
   "source": [
    "# Variáveis"
   ]
  },
  {
   "cell_type": "code",
   "execution_count": 11,
   "metadata": {},
   "outputs": [
    {
     "name": "stdout",
     "output_type": "stream",
     "text": [
      "34\n",
      "True\n",
      "20\n"
     ]
    }
   ],
   "source": [
    "idade_do_1 = 19\n",
    "idade_do_2 = 15\n",
    "print(idade_do_1 + idade_do_2)\n",
    "print(idade_do_1 > idade_do_2)\n",
    "idade_do_1 = idade_do_1 + 1\n",
    "print(idade_do_1)"
   ]
  },
  {
   "cell_type": "markdown",
   "metadata": {},
   "source": [
    "### Regras para o nome de uma variável\n",
    "- Deve-se iniciar com letra ou _ \n",
    "- não pode conter caracteres especiais (acentos podem, mas evite por boa prática)\n",
    "- Pode-se usar letras, números ou _\n",
    "- O python faz diferença entre maiúsculo e minúsculo\n",
    "- Não pode ser uma palavra reservada do python ['False', 'None', 'True', 'and', 'as', 'assert', 'break', 'class', 'continue', 'def', 'del', 'elif', 'else', 'except', 'finally', 'for', 'from', 'global', 'if', 'import', 'in', 'is', 'lambda', 'nonlocal', 'not', 'or', 'pass', 'raise', 'return', 'try', 'while', 'with', 'yield']"
   ]
  },
  {
   "cell_type": "code",
   "execution_count": 16,
   "metadata": {},
   "outputs": [
    {
     "name": "stdout",
     "output_type": "stream",
     "text": [
      "10\n"
     ]
    }
   ],
   "source": [
    "#del retira a variável da memória\n",
    "\n",
    "idade = 10\n",
    "print(idade)\n",
    "del idade\n"
   ]
  },
  {
   "cell_type": "markdown",
   "metadata": {},
   "source": [
    "### Laboratório 2.4.7"
   ]
  },
  {
   "cell_type": "code",
   "execution_count": null,
   "metadata": {},
   "outputs": [
    {
     "name": "stdout",
     "output_type": "stream",
     "text": [
      "3,5,6\n",
      "total de maçãs: 14\n",
      "maçãs dos meninos: 9\n"
     ]
    }
   ],
   "source": [
    "John = 3\n",
    "Mary = 5\n",
    "Adam = 6\n",
    "print(John, Mary, Adam, sep=\",\") #separador de vírgula entre os valores\n",
    "total_apples = John + Mary + Adam\n",
    "print(\"total de maçãs:\" , total_apples)\n",
    "boys_apples = total_apples - Mary\n",
    "print (\"maçãs dos meninos:\" , boys_apples)"
   ]
  },
  {
   "cell_type": "markdown",
   "metadata": {},
   "source": [
    "### Operador de atalho\n",
    "operador = operador operacao valor => operador operacao= valor\n",
    "resumindo\n",
    "idade = idade + 5 => idade += 5"
   ]
  },
  {
   "cell_type": "code",
   "execution_count": 31,
   "metadata": {},
   "outputs": [
    {
     "name": "stdout",
     "output_type": "stream",
     "text": [
      "7\n",
      "49\n"
     ]
    }
   ],
   "source": [
    "variavel = 2\n",
    "#variavel = variavel + 5 #essa e a linha de baixo fazem a mesma coisa\n",
    "variavel += 5\n",
    "print(variavel)\n",
    "#variavel = variavel * 5 + 2\n",
    "variavel *= 5 + 2 #na hierarquia de operações, a multiplicação vem antes da soma, porem o operador de atalho faz a soma primeiro\n",
    "print(variavel)"
   ]
  },
  {
   "cell_type": "markdown",
   "metadata": {},
   "source": [
    "### Laboratório 2.4.9"
   ]
  },
  {
   "cell_type": "code",
   "execution_count": 35,
   "metadata": {},
   "outputs": [
    {
     "name": "stdout",
     "output_type": "stream",
     "text": [
      "7.38 milhas é 11.88 quilômetros\n",
      "12.25 quilômetros é 7.61 milhas\n"
     ]
    }
   ],
   "source": [
    "kilometers = 12.25\n",
    "miles = 7.38\n",
    "one_mile_in_kilometers = 1.61\n",
    "\n",
    "miles_to_kilometers = miles * one_mile_in_kilometers\n",
    "kilometers_to_miles = kilometers / one_mile_in_kilometers\n",
    "\n",
    "print(miles, \"milhas é\", round(miles_to_kilometers, 2), \"quilômetros\")\n",
    "print(kilometers, \"quilômetros é\", round(kilometers_to_miles, 2), \"milhas\")\n"
   ]
  },
  {
   "cell_type": "markdown",
   "metadata": {},
   "source": [
    "### Laboratório 2.4.10\n",
    "3x3 - 2x2 + 3x - 1\n",
    "\n",
    "- Exemplo de entrada\n",
    "- x = 0\n",
    "- x = 1\n",
    "- x = -1\n",
    "- Exemplo de saída\n",
    "- y = -1.0\n",
    "- y = 3.0\n",
    "- y = -9.0"
   ]
  },
  {
   "cell_type": "code",
   "execution_count": 40,
   "metadata": {},
   "outputs": [
    {
     "name": "stdout",
     "output_type": "stream",
     "text": [
      "y = 3.0\n"
     ]
    }
   ],
   "source": [
    "x = 1\n",
    "x = float(x)\n",
    "y=(3 * x ** 3 - 2 * x ** 2 + 3 * x - 1) \n",
    "print(\"y =\", y)\n"
   ]
  }
 ],
 "metadata": {
  "kernelspec": {
   "display_name": ".venv",
   "language": "python",
   "name": "python3"
  },
  "language_info": {
   "codemirror_mode": {
    "name": "ipython",
    "version": 3
   },
   "file_extension": ".py",
   "mimetype": "text/x-python",
   "name": "python",
   "nbconvert_exporter": "python",
   "pygments_lexer": "ipython3",
   "version": "3.13.2"
  }
 },
 "nbformat": 4,
 "nbformat_minor": 2
}
