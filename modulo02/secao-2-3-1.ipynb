{
 "cells": [
  {
   "cell_type": "markdown",
   "metadata": {},
   "source": [
    "# Operadores em Python\n",
    "### Python como Calculadora"
   ]
  },
  {
   "cell_type": "code",
   "execution_count": 64,
   "metadata": {},
   "outputs": [
    {
     "name": "stdout",
     "output_type": "stream",
     "text": [
      "4\n"
     ]
    }
   ],
   "source": [
    "#sempre selecionar o kernel\n",
    "\n",
    "print(2+2)"
   ]
  },
  {
   "cell_type": "markdown",
   "metadata": {},
   "source": [
    "### Operadores Básicos\n",
    "#### Operador Exponenciação"
   ]
  },
  {
   "cell_type": "code",
   "execution_count": 65,
   "metadata": {},
   "outputs": [
    {
     "name": "stdout",
     "output_type": "stream",
     "text": [
      "4\n",
      "4.0\n",
      "4.0\n",
      "4.0\n"
     ]
    }
   ],
   "source": [
    "#uma vez que se coloca um número Float, ele tem preferencia\n",
    "\n",
    "print( 2 ** 2)\n",
    "print( 2.0 ** 2)\n",
    "print( 2 ** 2.0)\n",
    "print( 2.0 ** 2.0)"
   ]
  },
  {
   "cell_type": "markdown",
   "metadata": {},
   "source": [
    "#### Operador Multiplicação"
   ]
  },
  {
   "cell_type": "code",
   "execution_count": 66,
   "metadata": {},
   "outputs": [
    {
     "name": "stdout",
     "output_type": "stream",
     "text": [
      "4\n",
      "4.0\n",
      "4.0\n",
      "4.0\n"
     ]
    }
   ],
   "source": [
    "print (2 * 2)\n",
    "print (2.0 * 2)\n",
    "print (2 * 2.0)\n",
    "print (2.0 * 2.0)"
   ]
  },
  {
   "cell_type": "markdown",
   "metadata": {},
   "source": [
    "#### Operador Divisão"
   ]
  },
  {
   "cell_type": "code",
   "execution_count": 67,
   "metadata": {},
   "outputs": [
    {
     "name": "stdout",
     "output_type": "stream",
     "text": [
      "0.6666666666666666\n",
      "2.0\n",
      "1.0\n",
      "1.0\n"
     ]
    }
   ],
   "source": [
    "print( 2 / 3)\n",
    "print(4.0 / 2)\n",
    "print(2 / 2.0)\n",
    "print( 2.0 / 2.0)"
   ]
  },
  {
   "cell_type": "markdown",
   "metadata": {},
   "source": [
    "#### Operador Divisão arredondada (inteira)\n",
    "faz arredondamentos para baixo"
   ]
  },
  {
   "cell_type": "code",
   "execution_count": 68,
   "metadata": {},
   "outputs": [
    {
     "name": "stdout",
     "output_type": "stream",
     "text": [
      "0.6666666666666666\n",
      "0\n",
      "1\n",
      "-2\n"
     ]
    }
   ],
   "source": [
    "print(2 / 3)\n",
    "print(2 // 3)\n",
    "print(3 // 2)\n",
    "print(-3 // 2) #cuidado com números negativos, o valor fica errado\n"
   ]
  },
  {
   "cell_type": "markdown",
   "metadata": {},
   "source": [
    "#### Operador Restante (módulo) %"
   ]
  },
  {
   "cell_type": "code",
   "execution_count": 69,
   "metadata": {},
   "outputs": [
    {
     "name": "stdout",
     "output_type": "stream",
     "text": [
      "2\n",
      "1.0\n",
      "2.0\n",
      "3.0\n",
      "9\n"
     ]
    }
   ],
   "source": [
    "#resto da divisão\n",
    "print(2 % 3)\n",
    "print(3 % 2.0)\n",
    "print(2 % 3.0)\n",
    "print(12 % 4.5)\n",
    "print(9 % 10)"
   ]
  },
  {
   "cell_type": "markdown",
   "metadata": {},
   "source": [
    "#### Cuidados com resto e divisões\n",
    "Qualquer um deles não pode ter como divisor o zero (0)\n",
    "O resultado é erro!\n",
    "### Operador de soma e subtração"
   ]
  },
  {
   "cell_type": "code",
   "execution_count": 70,
   "metadata": {},
   "outputs": [
    {
     "name": "stdout",
     "output_type": "stream",
     "text": [
      "4\n",
      "0\n",
      "4.0\n",
      "4.0\n",
      "0.0\n"
     ]
    }
   ],
   "source": [
    "print(2+2)\n",
    "print(2-2)\n",
    "print(2+2.0)\n",
    "print(2.0+2)\n",
    "print(-2.0+2.0) #usando operador unário (um elemento foi modificado)"
   ]
  },
  {
   "cell_type": "markdown",
   "metadata": {},
   "source": [
    "#### Operadores e prioridades"
   ]
  },
  {
   "cell_type": "code",
   "execution_count": 71,
   "metadata": {},
   "outputs": [
    {
     "name": "stdout",
     "output_type": "stream",
     "text": [
      "2.0\n",
      "16\n",
      "48\n",
      "24.0\n",
      "12.0\n",
      "0.0\n",
      "2.0\n",
      "256\n"
     ]
    }
   ],
   "source": [
    "print(2+3*4**2/2//2%3) #expoentes tem maior prioridade que multiplicação e divisão, que tem maior prioridade que soma e subtração\n",
    "print(4**2)\n",
    "print(3*16)\n",
    "print(48/2)\n",
    "print(24.0//2)\n",
    "print(12.0%3) \n",
    "print(0.0+2)\n",
    "print(2**2**3)  #potenciação tem associatividade da direita para a esquerda"
   ]
  },
  {
   "cell_type": "markdown",
   "metadata": {},
   "source": [
    "#### Lista de prioridades de operadores\n",
    "| - | - | - |\n",
    "| prioridade | Operador | Descrição |\n",
    "| - | - | :-: |\n",
    "| 1 | ** | Exponenciação|\n",
    "| 2 | -, + | Operador Unário|\n",
    "| 3 | *, /, // , % | Multiplicação, Divisão e Resto|\n",
    "| 4 | -, + | Soma e Subtração|"
   ]
  },
  {
   "cell_type": "code",
   "execution_count": 72,
   "metadata": {},
   "outputs": [
    {
     "name": "stdout",
     "output_type": "stream",
     "text": [
      "-9\n",
      "9\n"
     ]
    }
   ],
   "source": [
    "print(-3**2)\n",
    "print((-3)**2)"
   ]
  }
 ],
 "metadata": {
  "kernelspec": {
   "display_name": ".venv",
   "language": "python",
   "name": "python3"
  },
  "language_info": {
   "codemirror_mode": {
    "name": "ipython",
    "version": 3
   },
   "file_extension": ".py",
   "mimetype": "text/x-python",
   "name": "python",
   "nbconvert_exporter": "python",
   "pygments_lexer": "ipython3",
   "version": "3.13.2"
  }
 },
 "nbformat": 4,
 "nbformat_minor": 2
}
